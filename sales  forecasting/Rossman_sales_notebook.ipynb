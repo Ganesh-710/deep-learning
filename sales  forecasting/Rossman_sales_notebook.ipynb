{
 "cells": [
  {
   "cell_type": "code",
   "execution_count": null,
   "id": "d4117bd5",
   "metadata": {},
   "outputs": [],
   "source": [
    "#importing the necessay libraries\n",
    "import numpy as np\n",
    "import pandas as pd\n",
    "%matplotlib inline\n",
    "import matplotlib as plt\n",
    "import seaborn as sns\n",
    "import datetime as dt\n",
    "from sklearn.preprocessing import MinMaxScaler, StandardScaler\n",
    "import tensorflow as tf\n",
    "from tensorflow import keras\n",
    "from tensorflow.keras.layers import LSTM\n",
    "from tensorflow.keras.layers import Dense\n",
    "from tensorflow.keras.models import Sequential"
   ]
  },
  {
   "cell_type": "code",
   "execution_count": null,
   "id": "5c8abd66",
   "metadata": {},
   "outputs": [],
   "source": [
    "#importing the data\n",
    "data_train = pd.read_csv('nn groupassignment/train.csv', parse_dates = ['Date'], dayfirst=True, low_memory=False )\n",
    "data_test = pd.read_csv('nn groupassignment/test.csv', parse_dates = ['Date'], dayfirst=True, low_memory=False)\n",
    "data_store = data_test = pd.read_csv('nn groupassignment/store.csv', low_memory=False)"
   ]
  },
  {
   "cell_type": "code",
   "execution_count": null,
   "id": "92509a26",
   "metadata": {},
   "outputs": [],
   "source": [
    "data_train.head() #printing the first five lines after importing"
   ]
  },
  {
   "cell_type": "code",
   "execution_count": null,
   "id": "6cf2a5cf",
   "metadata": {},
   "outputs": [],
   "source": [
    "data_store.head()"
   ]
  },
  {
   "cell_type": "code",
   "execution_count": null,
   "id": "e0831dfd",
   "metadata": {},
   "outputs": [],
   "source": [
    "data_test.head()"
   ]
  },
  {
   "cell_type": "code",
   "execution_count": null,
   "id": "2aeda246",
   "metadata": {},
   "outputs": [],
   "source": [
    "# we will merge the training and test data with the store data\n",
    "new_train = pd.merge(left =data_store,right= data_train, left_on = 'Store', right_on = 'Store', how = 'inner')\n",
    "new_test = pd.merge(left=data_store,right= data_test, left_on = 'Store', right_on = 'Store', how = 'inner')\n"
   ]
  },
  {
   "cell_type": "code",
   "execution_count": null,
   "id": "fe04383b",
   "metadata": {},
   "outputs": [],
   "source": [
    "new_train.head()"
   ]
  },
  {
   "cell_type": "code",
   "execution_count": null,
   "id": "44b64306",
   "metadata": {},
   "outputs": [],
   "source": [
    "new_train.dtypes # checking the data types"
   ]
  },
  {
   "cell_type": "code",
   "execution_count": null,
   "id": "8b1d5b22",
   "metadata": {
    "scrolled": true
   },
   "outputs": [],
   "source": [
    "#finding the null cells \n",
    "new_train.isnull().sum()"
   ]
  },
  {
   "cell_type": "code",
   "execution_count": null,
   "id": "7ea75529",
   "metadata": {},
   "outputs": [],
   "source": [
    "#filling the null cells\n",
    "pd.Series.replace\n",
    "new_train['CompetitionDistance'] = new_train['CompetitionDistance'].replace('nan',np.nan).fillna(0)\n",
    "new_train['Promo2SinceWeek'] = new_train['Promo2SinceWeek'].replace('nan',np.nan).fillna(0)\n",
    "new_train['Promo2SinceYear'] = new_train['Promo2SinceYear'].replace('nan',np.nan).fillna(0)\n",
    "new_train['CompetitionOpenSinceMonth'] = new_train['CompetitionOpenSinceMonth'].replace('nan',np.nan).fillna(0)\n",
    "new_train['CompetitionOpenSinceYear'] = new_train['CompetitionOpenSinceYear'].replace('nan',np.nan).fillna(0)\n",
    "new_train['PromoInterval'] = new_train['PromoInterval'].replace('nan',np.nan).fillna(0)\n",
    "new_train.isnull().sum()"
   ]
  },
  {
   "cell_type": "code",
   "execution_count": null,
   "id": "8984ab54",
   "metadata": {},
   "outputs": [],
   "source": [
    "new_train.head()"
   ]
  },
  {
   "cell_type": "code",
   "execution_count": null,
   "id": "768491d8",
   "metadata": {},
   "outputs": [],
   "source": [
    "#converting the year values, competition open since month, competition open since year,promo open since month, promo open since year\n",
    "new_train['Promo2SinceWeek'] = new_train['Promo2SinceWeek'].astype('int64')\n",
    "new_train['Promo2SinceYear'] = new_train['Promo2SinceYear'].astype('int64')\n",
    "new_train['CompetitionOpenSinceYear'] = new_train['CompetitionOpenSinceYear'].astype('int64')\n",
    "new_train['CompetitionOpenSinceMonth'] = new_train['CompetitionOpenSinceMonth'].astype('int64') \n",
    "\n"
   ]
  },
  {
   "cell_type": "code",
   "execution_count": null,
   "id": "414f00ce",
   "metadata": {},
   "outputs": [],
   "source": [
    "new_train.dtypes"
   ]
  },
  {
   "cell_type": "code",
   "execution_count": null,
   "id": "72b0e0d7",
   "metadata": {},
   "outputs": [],
   "source": [
    "time0 = pd.Timestamp('2012-01-01 00:00:00') # coverting the time into timestamp\n",
    "new_train['Date'] = (new_train['Date'] - time0).values.astype(float)\n",
    "new_train.head()"
   ]
  },
  {
   "cell_type": "code",
   "execution_count": null,
   "id": "0f49b882",
   "metadata": {},
   "outputs": [],
   "source": [
    "new_train = pd.get_dummies(new_train, columns=['StoreType']) #converting the StoreType data (categorical)\n",
    "new_train.head()"
   ]
  },
  {
   "cell_type": "code",
   "execution_count": null,
   "id": "ee50bac2",
   "metadata": {},
   "outputs": [],
   "source": [
    "new_train = pd.get_dummies(new_train, columns=['Assortment']) #converting the Assortment data(categorical)\n",
    "new_train.head()"
   ]
  },
  {
   "cell_type": "code",
   "execution_count": null,
   "id": "0e754c73",
   "metadata": {},
   "outputs": [],
   "source": [
    "new_train = pd.get_dummies(new_train, columns=['StateHoliday'])#converting the Stateholiday data(numerical)\n",
    "new_train.head()"
   ]
  },
  {
   "cell_type": "code",
   "execution_count": null,
   "id": "6197f0bb",
   "metadata": {},
   "outputs": [],
   "source": [
    "new_train = pd.get_dummies(new_train, columns=['PromoInterval'])\n",
    "new_train.head()"
   ]
  },
  {
   "cell_type": "markdown",
   "id": "aaaadfc4",
   "metadata": {},
   "source": [
    "new_train.dtypes"
   ]
  },
  {
   "cell_type": "code",
   "execution_count": null,
   "id": "7ca828e7",
   "metadata": {},
   "outputs": [],
   "source": [
    "new_train.dtypes"
   ]
  },
  {
   "cell_type": "code",
   "execution_count": null,
   "id": "01e6b971",
   "metadata": {},
   "outputs": [],
   "source": [
    "usable_cols1 = list(new_train)[:8] #creating a training set"
   ]
  },
  {
   "cell_type": "code",
   "execution_count": null,
   "id": "6328f042",
   "metadata": {},
   "outputs": [],
   "source": [
    "usable_cols1"
   ]
  },
  {
   "cell_type": "code",
   "execution_count": null,
   "id": "d8c67f91",
   "metadata": {},
   "outputs": [],
   "source": [
    "usable_cols2 = list(new_train)[9:]"
   ]
  },
  {
   "cell_type": "code",
   "execution_count": null,
   "id": "7aea1d28",
   "metadata": {},
   "outputs": [],
   "source": [
    "usable_cols2"
   ]
  },
  {
   "cell_type": "code",
   "execution_count": null,
   "id": "82cc5598",
   "metadata": {},
   "outputs": [],
   "source": [
    "usable_cols = usable_cols1 + usable_cols2"
   ]
  },
  {
   "cell_type": "code",
   "execution_count": null,
   "id": "4e19fbf4",
   "metadata": {},
   "outputs": [],
   "source": [
    "usable_cols"
   ]
  },
  {
   "cell_type": "code",
   "execution_count": null,
   "id": "2d54c0e4",
   "metadata": {},
   "outputs": [],
   "source": [
    "training_data = new_train[usable_cols]"
   ]
  },
  {
   "cell_type": "code",
   "execution_count": null,
   "id": "288b2904",
   "metadata": {},
   "outputs": [],
   "source": [
    "training_data.dtypes"
   ]
  },
  {
   "cell_type": "code",
   "execution_count": null,
   "id": "1757d686",
   "metadata": {},
   "outputs": [],
   "source": [
    "training_data = new_train[usable_cols].astype(float)\n",
    "training_data"
   ]
  },
  {
   "cell_type": "code",
   "execution_count": null,
   "id": "4fcec6ab",
   "metadata": {},
   "outputs": [],
   "source": [
    "training_data.info()"
   ]
  },
  {
   "cell_type": "code",
   "execution_count": null,
   "id": "5ca6c12b",
   "metadata": {},
   "outputs": [],
   "source": [
    "training_data.shape"
   ]
  },
  {
   "cell_type": "code",
   "execution_count": null,
   "id": "960db056",
   "metadata": {},
   "outputs": [],
   "source": [
    "scaled = StandardScaler()  # scaling the data"
   ]
  },
  {
   "cell_type": "code",
   "execution_count": null,
   "id": "d4c7feaf",
   "metadata": {},
   "outputs": [],
   "source": [
    "scaled = scaled.fit(training_data)"
   ]
  },
  {
   "cell_type": "code",
   "execution_count": null,
   "id": "f8f0f383",
   "metadata": {},
   "outputs": [],
   "source": [
    "training_data_scaled = scaled.transform(training_data)"
   ]
  },
  {
   "cell_type": "code",
   "execution_count": null,
   "id": "10e373e9",
   "metadata": {},
   "outputs": [],
   "source": [
    "training_data_scaled"
   ]
  },
  {
   "cell_type": "code",
   "execution_count": null,
   "id": "8d0ec2ae",
   "metadata": {},
   "outputs": [],
   "source": [
    "training_x = []\n",
    "training_y = []\n",
    "future_days = 1\n",
    "past_days = 14"
   ]
  },
  {
   "cell_type": "code",
   "execution_count": null,
   "id": "8d2bc73f",
   "metadata": {},
   "outputs": [],
   "source": [
    "training_data.tail(2000).plot.line()"
   ]
  },
  {
   "cell_type": "code",
   "execution_count": null,
   "id": "1fe5c7b3",
   "metadata": {},
   "outputs": [],
   "source": [
    "for i in range(past_days, len(training_data_scaled) - future_days +1):     # splitting the data into training and target\n",
    "    training_x.append(training_data_scaled[i - past_days:i, 0:training_data.shape[1]])\n",
    "    training_y.append(training_data_scaled[i + future_days -1:i + future_days, 8])"
   ]
  },
  {
   "cell_type": "code",
   "execution_count": null,
   "id": "a6d9a014",
   "metadata": {},
   "outputs": [],
   "source": [
    "training_x"
   ]
  },
  {
   "cell_type": "code",
   "execution_count": null,
   "id": "0da4d402",
   "metadata": {},
   "outputs": [],
   "source": [
    "training_x, training_y = np.array(training_x), np.array(training_y)\n",
    "print(training_x.shape, training_y.shape)"
   ]
  },
  {
   "cell_type": "code",
   "execution_count": null,
   "id": "f23d4d4a",
   "metadata": {},
   "outputs": [],
   "source": [
    "model = Sequential() #developing the LSTM model for training\n",
    "model.add(LSTM(100,activation='relu',input_shape=(training_x.shape[1],training_x.shape[2]),return_sequences=True))\n",
    "model.add(LSTM(100,activation='relu',return_sequences=True))\n",
    "# model.add(Dropout(0.2))\n",
    "model.add(Dense(training_y.shape[1]))\n",
    "model.compile(loss='mean_squared_error',optimizer='adam')\n"
   ]
  },
  {
   "cell_type": "code",
   "execution_count": null,
   "id": "370f80c1",
   "metadata": {},
   "outputs": [],
   "source": [
    "model.summary()"
   ]
  },
  {
   "cell_type": "code",
   "execution_count": null,
   "id": "800d5693",
   "metadata": {},
   "outputs": [],
   "source": [
    "history = model.fit(training_x,training_y, epochs=5, batch_size=161, verbose=1)  #fitting the model "
   ]
  },
  {
   "cell_type": "code",
   "execution_count": null,
   "id": "56f267b3",
   "metadata": {},
   "outputs": [],
   "source": [
    "#predicting the future sales\n",
    "future_days = 42\n",
    "forecast_period_dates = pd.date_range(list(new_train['Date'])[-1], preriods=future_days, freq='7d')\n",
    "forcast = model.predict(training_x[-future_days:])\n",
    "predictions = np.repeat(forecast,training_data.shape[1], axis=-1)\n"
   ]
  },
  {
   "cell_type": "code",
   "execution_count": null,
   "id": "8d9d20f9",
   "metadata": {},
   "outputs": [],
   "source": [
    "\n",
    "new_future_d = scaler.inverse_transform(predictions)[:,8] #denomalising the data"
   ]
  }
 ],
 "metadata": {
  "kernelspec": {
   "display_name": "Python 3 (ipykernel)",
   "language": "python",
   "name": "python3"
  },
  "language_info": {
   "codemirror_mode": {
    "name": "ipython",
    "version": 3
   },
   "file_extension": ".py",
   "mimetype": "text/x-python",
   "name": "python",
   "nbconvert_exporter": "python",
   "pygments_lexer": "ipython3",
   "version": "3.9.6"
  }
 },
 "nbformat": 4,
 "nbformat_minor": 5
}
